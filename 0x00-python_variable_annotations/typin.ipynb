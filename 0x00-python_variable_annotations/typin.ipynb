{
 "cells": [
  {
   "cell_type": "code",
   "execution_count": 15,
   "metadata": {},
   "outputs": [],
   "source": [
    "from typing import Iterator, Tuple, Sequence, Tuple, Callable, TypeVar\n"
   ]
  },
  {
   "cell_type": "code",
   "execution_count": 6,
   "metadata": {},
   "outputs": [
    {
     "name": "stdout",
     "output_type": "stream",
     "text": [
      "<generator object gen at 0x7f7a588450e0>\n"
     ]
    }
   ],
   "source": [
    "def gen(n: int) -> Iterator[int]:\n",
    "    i = o\n",
    "    while i < n:\n",
    "        yield i\n",
    "        i += 1\n",
    "\n",
    "g = gen(5)\n",
    "print(g)"
   ]
  },
  {
   "cell_type": "code",
   "execution_count": 8,
   "metadata": {},
   "outputs": [],
   "source": [
    "def call(self, *args: str, **kwargs: str) -> str:\n",
    "    reveal_type(args)  # Revealed type is \"tuple[str, ...]\"\n",
    "    reveal_type(kwargs)  # Revealed type is \"dict[str, str]\"\n",
    "    request = make_request(*args, **kwargs)\n",
    "    return self.do_api_query(request)"
   ]
  },
  {
   "cell_type": "code",
   "execution_count": 10,
   "metadata": {},
   "outputs": [
    {
     "name": "stdout",
     "output_type": "stream",
     "text": [
      "524313\n"
     ]
    }
   ],
   "source": [
    "from typing import NewType\n",
    "\n",
    "UserId = NewType('UserId', int)\n",
    "some_id = UserId(524313)\n",
    "\n",
    "print(some_id)"
   ]
  },
  {
   "cell_type": "code",
   "execution_count": 12,
   "metadata": {},
   "outputs": [],
   "source": [
    "def foo(cal: Sequence[str]): # any object that can be indexed\n",
    "    pass\n",
    "\n",
    "foo(['ahe', 'sd'])"
   ]
  },
  {
   "attachments": {},
   "cell_type": "markdown",
   "metadata": {},
   "source": []
  },
  {
   "cell_type": "code",
   "execution_count": 17,
   "metadata": {},
   "outputs": [],
   "source": [
    "# using Callable when a fucntion accepts another functiion as a parameter\n",
    "def add(x: int) -> int:\n",
    "    return x\n",
    "\n",
    "def foo(func: Callable[[int, int], int]) -> None:\n",
    "    func(1, 2)\n",
    "\n",
    "foo(add)"
   ]
  },
  {
   "cell_type": "code",
   "execution_count": 19,
   "metadata": {},
   "outputs": [
    {
     "ename": "TypeError",
     "evalue": "foo() takes 0 positional arguments but 1 was given",
     "output_type": "error",
     "traceback": [
      "\u001b[0;31m---------------------------------------------------------------------------\u001b[0m",
      "\u001b[0;31mTypeError\u001b[0m                                 Traceback (most recent call last)",
      "Cell \u001b[0;32mIn[19], line 7\u001b[0m\n\u001b[1;32m      3\u001b[0m         \u001b[39mreturn\u001b[39;00m x \u001b[39m+\u001b[39m y\n\u001b[1;32m      5\u001b[0m     \u001b[39mreturn\u001b[39;00m add\n\u001b[0;32m----> 7\u001b[0m foo(add)\n",
      "\u001b[0;31mTypeError\u001b[0m: foo() takes 0 positional arguments but 1 was given"
     ]
    }
   ],
   "source": [
    "\n",
    "def foo() -> Callable[[int, int], int]:\n",
    "    def add(x: int, y: int) -> int:\n",
    "        return x + y\n",
    "    \n",
    "    return add\n",
    "\n",
    "foo(add)"
   ]
  }
 ],
 "metadata": {
  "kernelspec": {
   "display_name": "Python 3",
   "language": "python",
   "name": "python3"
  },
  "language_info": {
   "codemirror_mode": {
    "name": "ipython",
    "version": 3
   },
   "file_extension": ".py",
   "mimetype": "text/x-python",
   "name": "python",
   "nbconvert_exporter": "python",
   "pygments_lexer": "ipython3",
   "version": "3.10.6"
  },
  "orig_nbformat": 4,
  "vscode": {
   "interpreter": {
    "hash": "916dbcbb3f70747c44a77c7bcd40155683ae19c65e1c03b4aa3499c5328201f1"
   }
  }
 },
 "nbformat": 4,
 "nbformat_minor": 2
}
